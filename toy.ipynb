{
 "cells": [
  {
   "cell_type": "code",
   "execution_count": 1,
   "metadata": {},
   "outputs": [],
   "source": [
    "# Import API modules\n",
    "import numpy as np\n",
    "import pandas as pd\n",
    "import matplotlib.pyplot as plt\n",
    "import seaborn as sns\n",
    "import requests\n",
    "import os\n",
    "import geopandas as gpd\n",
    "# Import linestrings\n",
    "import tradeAreasPreprocessing as tap\n",
    "from shapely.geometry import LineString\n",
    "import census_finder"
   ]
  },
  {
   "cell_type": "code",
   "execution_count": null,
   "metadata": {},
   "outputs": [],
   "source": [
    "# Read token.txt\n",
    "with open(\"inrix_token.txt\", \"r\") as f:\n",
    "    token = f.read()\n",
    "\n",
    "# Use API\n",
    "endpoint = f\"https://api.iq.inrix.com/v1/segments/speed?box=37.757386%7C-122.490667%2C37.746138%7C-122.395481\"\n",
    "r = requests.get(endpoint, headers={'Authorization': f\"Bearer {token}\"})"
   ]
  },
  {
   "cell_type": "code",
   "execution_count": null,
   "metadata": {},
   "outputs": [],
   "source": [
    "od = 'origin'\n",
    "geoFilterType = 'polygon'\n",
    "radius = '0.2km'\n",
    "points = '37.734622%7C-122.471603%2C37.743627%7C-122.463850%2C37.743066%7C-122.475429'\n",
    "providerType = 'consumer'\n",
    "startDateTime = '%3E%3D2023-06-01T02%3A31'\n",
    "endDateTime = '%3C%3D2023-06-15T02%3A31'\n",
    "\n",
    "# Trade Areas API\n",
    "endpoint_TA = f'https://api.iq.inrix.com/v1/trips?od={od}&geoFilterType={geoFilterType}&radius={radius}&points={points}&providerType={providerType}&startDateTime={startDateTime}&endDateTime={endDateTime}'\n",
    "r_TA = requests.get(endpoint_TA, headers={'Authorization': f\"Bearer {token}\"})"
   ]
  },
  {
   "cell_type": "code",
   "execution_count": null,
   "metadata": {},
   "outputs": [],
   "source": [
    "# Convert dictionary to dataframe\n",
    "df = pd.DataFrame.from_dict(r_TA.json()['data'])\n"
   ]
  },
  {
   "cell_type": "code",
   "execution_count": null,
   "metadata": {},
   "outputs": [],
   "source": [
    "# Separate startLoc into two columns: all numbers before comma and all numbers after comma, then convert to floats\n",
    "df['start_lat'] = df['startLoc'].apply(lambda x: x.split(',')[0]).astype(float)\n",
    "df['start_lon'] = df['startLoc'].apply(lambda x: x.split(',')[1]).astype(float)\n",
    "df['end_lat'] = df['endLoc'].apply(lambda x: x.split(',')[0]).astype(float)\n",
    "df['end_lon'] = df['endLoc'].apply(lambda x: x.split(',')[1]).astype(float)\n",
    "\n",
    "# Create linestring from start and end coordinates\n",
    "df['geometry'] = df.apply(lambda x: LineString([(x['start_lon'], x['start_lat']), (x['end_lon'], x['end_lat'])]), axis=1)"
   ]
  },
  {
   "cell_type": "code",
   "execution_count": null,
   "metadata": {},
   "outputs": [],
   "source": [
    "# Read geojson\n",
    "sf = gpd.read_file('San_Francisco_Bay_Region_2020_Census_Tracts.geojson')"
   ]
  },
  {
   "cell_type": "code",
   "execution_count": null,
   "metadata": {},
   "outputs": [],
   "source": [
    "# Convert df to geopandas\n",
    "df = gpd.GeoDataFrame(df, geometry='geometry', crs='EPSG:4326')\n",
    "\n",
    "# Find intersection of linestring and geojson\n",
    "sf['intersections'] = sf.geometry.clip(df.geometry)"
   ]
  },
  {
   "cell_type": "code",
   "execution_count": null,
   "metadata": {},
   "outputs": [],
   "source": [
    "sf[sf['intersections'].notnull()].intersections"
   ]
  },
  {
   "cell_type": "markdown",
   "metadata": {},
   "source": [
    "### Temporal Processing"
   ]
  },
  {
   "cell_type": "code",
   "execution_count": null,
   "metadata": {},
   "outputs": [],
   "source": [
    "df['startDateTime'] = pd.to_datetime(df['startDateTime'], format='%Y-%m-%dT%H:%M:%S.%fZ')\n",
    "df['endDateTime'] = pd.to_datetime(df['endDateTime'], format='%Y-%m-%dT%H:%M:%S.%fZ')\n",
    "\n",
    "df['duration'] = (df['endDateTime'] - df['startDateTime']).dt.total_seconds()\n",
    "\n",
    "df['day'] = df['startDateTime'].dt.day\n",
    "df['month'] = df['startDateTime'].dt.month\n",
    "df['year'] = df['startDateTime'].dt.year\n",
    "df['dow'] = df['startDateTime'].dt.dayofweek\n",
    "df['start_hour'] = df['startDateTime'].dt.hour\n",
    "df['end_hour'] = df['endDateTime'].dt.hour\n",
    "df['start_date'] = df['startDateTime'].dt.date\n",
    "df['end_date'] = df['endDateTime'].dt.date\n",
    "df['weekend'] = df['dow'].apply(lambda x: 1 if x >= 5 else 0)"
   ]
  },
  {
   "cell_type": "markdown",
   "metadata": {},
   "source": [
    "## Weather API?"
   ]
  },
  {
   "cell_type": "code",
   "execution_count": null,
   "metadata": {},
   "outputs": [],
   "source": [
    "with open(\"weather_token.txt\", \"r\") as f:\n",
    "    weather_token = f.read()\n",
    "\n",
    "date = '2023-11-29'\n",
    "\n",
    "city = 'San Francisco'\n",
    "# Use API\n",
    "endpoint_weather = f\"http://api.weatherapi.com/v1/history.json?key={weather_token}&q={city}&dt={date}\"\n",
    "r_weather = requests.get(endpoint_weather)\n",
    "\n",
    "r_weather.json()"
   ]
  },
  {
   "cell_type": "code",
   "execution_count": null,
   "metadata": {},
   "outputs": [],
   "source": [
    "# Read as dataframe\n",
    "df_weather = pd.DataFrame.from_dict(r_weather.json()['forecast']['forecastday'][0]['hour'])"
   ]
  },
  {
   "cell_type": "code",
   "execution_count": null,
   "metadata": {},
   "outputs": [],
   "source": [
    "df_weather"
   ]
  },
  {
   "cell_type": "code",
   "execution_count": 10,
   "metadata": {},
   "outputs": [
    {
     "ename": "AttributeError",
     "evalue": "'tradeAreasPreprocessing' object has no attribute 'tradeAreasPreprocessing'",
     "output_type": "error",
     "traceback": [
      "\u001b[0;31m---------------------------------------------------------------------------\u001b[0m",
      "\u001b[0;31mAttributeError\u001b[0m                            Traceback (most recent call last)",
      "\u001b[1;32m/Users/ekinokos2/Library/CloudStorage/OneDrive-UW/GeoAdVisor/toy.ipynb Cell 15\u001b[0m line \u001b[0;36m6\n\u001b[1;32m      <a href='vscode-notebook-cell:/Users/ekinokos2/Library/CloudStorage/OneDrive-UW/GeoAdVisor/toy.ipynb#X20sZmlsZQ%3D%3D?line=2'>3</a>\u001b[0m     token \u001b[39m=\u001b[39m f\u001b[39m.\u001b[39mread()\n\u001b[1;32m      <a href='vscode-notebook-cell:/Users/ekinokos2/Library/CloudStorage/OneDrive-UW/GeoAdVisor/toy.ipynb#X20sZmlsZQ%3D%3D?line=4'>5</a>\u001b[0m \u001b[39m# Initialize class\u001b[39;00m\n\u001b[0;32m----> <a href='vscode-notebook-cell:/Users/ekinokos2/Library/CloudStorage/OneDrive-UW/GeoAdVisor/toy.ipynb#X20sZmlsZQ%3D%3D?line=5'>6</a>\u001b[0m tap \u001b[39m=\u001b[39m tap\u001b[39m.\u001b[39;49mtradeAreasPreprocessing(token\u001b[39m=\u001b[39mtoken,\n\u001b[1;32m      <a href='vscode-notebook-cell:/Users/ekinokos2/Library/CloudStorage/OneDrive-UW/GeoAdVisor/toy.ipynb#X20sZmlsZQ%3D%3D?line=6'>7</a>\u001b[0m                                   od \u001b[39m=\u001b[39m \u001b[39m'\u001b[39m\u001b[39morigin\u001b[39m\u001b[39m'\u001b[39m,\n\u001b[1;32m      <a href='vscode-notebook-cell:/Users/ekinokos2/Library/CloudStorage/OneDrive-UW/GeoAdVisor/toy.ipynb#X20sZmlsZQ%3D%3D?line=7'>8</a>\u001b[0m geoFilterType \u001b[39m=\u001b[39m \u001b[39m'\u001b[39m\u001b[39mpolygon\u001b[39m\u001b[39m'\u001b[39m,\n\u001b[1;32m      <a href='vscode-notebook-cell:/Users/ekinokos2/Library/CloudStorage/OneDrive-UW/GeoAdVisor/toy.ipynb#X20sZmlsZQ%3D%3D?line=8'>9</a>\u001b[0m radius \u001b[39m=\u001b[39m \u001b[39m'\u001b[39m\u001b[39m0.2km\u001b[39m\u001b[39m'\u001b[39m,\n\u001b[1;32m     <a href='vscode-notebook-cell:/Users/ekinokos2/Library/CloudStorage/OneDrive-UW/GeoAdVisor/toy.ipynb#X20sZmlsZQ%3D%3D?line=9'>10</a>\u001b[0m points \u001b[39m=\u001b[39m \u001b[39m'\u001b[39m\u001b[39m37.734622\u001b[39m\u001b[39m%\u001b[39m\u001b[39m7C-122.471603\u001b[39m\u001b[39m%\u001b[39m\u001b[39m2C37.743627\u001b[39m\u001b[39m%\u001b[39m\u001b[39m7C-122.463850\u001b[39m\u001b[39m%\u001b[39m\u001b[39m2C37.743066\u001b[39m\u001b[39m%\u001b[39m\u001b[39m7C-122.475429\u001b[39m\u001b[39m'\u001b[39m,\n\u001b[1;32m     <a href='vscode-notebook-cell:/Users/ekinokos2/Library/CloudStorage/OneDrive-UW/GeoAdVisor/toy.ipynb#X20sZmlsZQ%3D%3D?line=10'>11</a>\u001b[0m providerType \u001b[39m=\u001b[39m \u001b[39m'\u001b[39m\u001b[39mconsumer\u001b[39m\u001b[39m'\u001b[39m,\n\u001b[1;32m     <a href='vscode-notebook-cell:/Users/ekinokos2/Library/CloudStorage/OneDrive-UW/GeoAdVisor/toy.ipynb#X20sZmlsZQ%3D%3D?line=11'>12</a>\u001b[0m startDateTime \u001b[39m=\u001b[39m \u001b[39m'\u001b[39m\u001b[39m%3E\u001b[39;00m\u001b[39m%\u001b[39m\u001b[39m3D2023-06-01T02\u001b[39m\u001b[39m%\u001b[39m\u001b[39m3A31\u001b[39m\u001b[39m'\u001b[39m,\n\u001b[1;32m     <a href='vscode-notebook-cell:/Users/ekinokos2/Library/CloudStorage/OneDrive-UW/GeoAdVisor/toy.ipynb#X20sZmlsZQ%3D%3D?line=12'>13</a>\u001b[0m endDateTime \u001b[39m=\u001b[39m \u001b[39m'\u001b[39m\u001b[39m%\u001b[39m\u001b[39m3C\u001b[39m\u001b[39m%\u001b[39m\u001b[39m3D2023-06-15T02\u001b[39m\u001b[39m%\u001b[39m\u001b[39m3A31\u001b[39m\u001b[39m'\u001b[39m)\n\u001b[1;32m     <a href='vscode-notebook-cell:/Users/ekinokos2/Library/CloudStorage/OneDrive-UW/GeoAdVisor/toy.ipynb#X20sZmlsZQ%3D%3D?line=14'>15</a>\u001b[0m \u001b[39m# Read data\u001b[39;00m\n\u001b[1;32m     <a href='vscode-notebook-cell:/Users/ekinokos2/Library/CloudStorage/OneDrive-UW/GeoAdVisor/toy.ipynb#X20sZmlsZQ%3D%3D?line=15'>16</a>\u001b[0m df \u001b[39m=\u001b[39m tap\u001b[39m.\u001b[39mread_data()\n",
      "\u001b[0;31mAttributeError\u001b[0m: 'tradeAreasPreprocessing' object has no attribute 'tradeAreasPreprocessing'"
     ]
    }
   ],
   "source": [
    "\n",
    "# Read token.txt\n",
    "with open(\"inrix_token.txt\", \"r\") as f:\n",
    "    token = f.read()\n",
    "    \n",
    "# Initialize class\n",
    "tap = tap.tradeAreasPreprocessing(token=token,\n",
    "                                  od = 'origin', \n",
    "                                  geoFilterType = 'polygon',\n",
    "                                radius = '0.2km',\n",
    "                                points = '37.734622%7C-122.471603%2C37.743627%7C-122.463850%2C37.743066%7C-122.475429',\n",
    "                                providerType = 'consumer',\n",
    "                                startDateTime = '%3E%3D2023-06-01T02%3A31',\n",
    "                                endDateTime = '%3C%3D2023-06-15T02%3A31')\n",
    "\n",
    "# Read data\n",
    "df = tap.read_data()"
   ]
  },
  {
   "cell_type": "code",
   "execution_count": 7,
   "metadata": {},
   "outputs": [
    {
     "ename": "KeyError",
     "evalue": "'data'",
     "output_type": "error",
     "traceback": [
      "\u001b[0;31m---------------------------------------------------------------------------\u001b[0m",
      "\u001b[0;31mKeyError\u001b[0m                                  Traceback (most recent call last)",
      "\u001b[1;32m/Users/ekinokos2/Library/CloudStorage/OneDrive-UW/GeoAdVisor/toy.ipynb Cell 16\u001b[0m line \u001b[0;36m1\n\u001b[0;32m----> <a href='vscode-notebook-cell:/Users/ekinokos2/Library/CloudStorage/OneDrive-UW/GeoAdVisor/toy.ipynb#X21sZmlsZQ%3D%3D?line=0'>1</a>\u001b[0m df \u001b[39m=\u001b[39m tap\u001b[39m.\u001b[39;49mcreate_dataframe(df)\n",
      "File \u001b[0;32m~/Library/CloudStorage/OneDrive-UW/GeoAdVisor/tradeAreasPreprocessing.py:31\u001b[0m, in \u001b[0;36mtradeAreasPreprocessing.create_dataframe\u001b[0;34m(self, data)\u001b[0m\n\u001b[1;32m     27\u001b[0m \u001b[39mdef\u001b[39;00m \u001b[39mcreate_dataframe\u001b[39m(\u001b[39mself\u001b[39m, data):\n\u001b[1;32m     28\u001b[0m \u001b[39m    \u001b[39m\u001b[39m\"\"\"\u001b[39;00m\n\u001b[1;32m     29\u001b[0m \u001b[39m    Create dataframe from data\u001b[39;00m\n\u001b[1;32m     30\u001b[0m \u001b[39m    \"\"\"\u001b[39;00m\n\u001b[0;32m---> 31\u001b[0m     df \u001b[39m=\u001b[39m pd\u001b[39m.\u001b[39mDataFrame\u001b[39m.\u001b[39mfrom_dict(data[\u001b[39m'\u001b[39;49m\u001b[39mdata\u001b[39;49m\u001b[39m'\u001b[39;49m])\n\u001b[1;32m     32\u001b[0m     \u001b[39mreturn\u001b[39;00m df\n",
      "\u001b[0;31mKeyError\u001b[0m: 'data'"
     ]
    }
   ],
   "source": [
    "df = tap.create_dataframe(df)"
   ]
  },
  {
   "cell_type": "code",
   "execution_count": 4,
   "metadata": {},
   "outputs": [],
   "source": [
    "df = tap.separate_coordinates(df)\n",
    "\n",
    "df = tap.add_temporal_vars(df)\n",
    "\n",
    "#df = tap.add_mode(df)"
   ]
  },
  {
   "cell_type": "code",
   "execution_count": 5,
   "metadata": {},
   "outputs": [
    {
     "name": "stdout",
     "output_type": "stream",
     "text": [
      "Using FIPS code '06' for input 'CA'\n"
     ]
    }
   ],
   "source": [
    "trips_gdf = tap.get_trip_geometry(df)\n",
    "\n",
    "ca_tiger = tap.downloadShapefile()"
   ]
  },
  {
   "cell_type": "code",
   "execution_count": 6,
   "metadata": {},
   "outputs": [],
   "source": [
    "intersected_trips = tap.intersectedTrips(trips_gdf, ca_tiger)"
   ]
  },
  {
   "cell_type": "code",
   "execution_count": 32,
   "metadata": {},
   "outputs": [],
   "source": [
    "# Reload magic functions\n",
    "%reload_ext autoreload\n",
    "%autoreload 2"
   ]
  },
  {
   "cell_type": "code",
   "execution_count": 4,
   "metadata": {},
   "outputs": [
    {
     "name": "stdout",
     "output_type": "stream",
     "text": [
      "010101\n"
     ]
    }
   ],
   "source": [
    "# read in files\n",
    "geojson_location = \"/Users/ekinokos2/Library/CloudStorage/OneDrive-UW/GeoAdVisor/sf-tracts-2020-clipped.geojson\"\n",
    "census_data = \"/Users/ekinokos2/Library/CloudStorage/OneDrive-UW/GeoAdVisor/census_data/census_data_clean.csv\"\n",
    "\n",
    "# Load the GeoJSON file into a GeoDataFrame and csv into df\n",
    "gdf = gpd.read_file(geojson_location)\n",
    "census_df = pd.read_csv(census_data, dtype={\"tract\": str})\n",
    "\n",
    "# Filter out invalid geometries\n",
    "gdf = gdf[gdf.is_valid]\n",
    "2\n",
    "# INitialize class\n",
    "cf = census_finder.censusFinder(gdf, census_df)\n",
    "\n",
    "tract_no = cf.get_census_tract_info(37.734622, -122.471603)\n",
    "\n",
    "demographics = cf.lookup_demographics(tract_no)"
   ]
  },
  {
   "cell_type": "code",
   "execution_count": 22,
   "metadata": {},
   "outputs": [],
   "source": [
    "\n",
    "# Example usage\n",
    "latitude = 37.743138  # Replace with actual latitude\n",
    "longitude = -122.466007  # Replace with actual longitude\n",
    "census_tract_info = census_finder.get_census_tract_info(latitude, longitude, gdf)\n"
   ]
  },
  {
   "cell_type": "code",
   "execution_count": 23,
   "metadata": {},
   "outputs": [
    {
     "data": {
      "text/plain": [
       "{'TRACTCE20': '030800'}"
      ]
     },
     "execution_count": 23,
     "metadata": {},
     "output_type": "execute_result"
    }
   ],
   "source": [
    "census_tract_info"
   ]
  },
  {
   "cell_type": "code",
   "execution_count": 16,
   "metadata": {},
   "outputs": [
    {
     "data": {
      "text/plain": [
       "providerHash          c3e878e27f52e2a57ace4d9a76fd9acf\n",
       "startLoc                         37.743138,-122.466007\n",
       "startDateTime               2023-06-01 02:35:57.079000\n",
       "endLoc                           37.735084,-122.500487\n",
       "endpointType                                         0\n",
       "tripDistanceMeters                                3472\n",
       "tripMeanSpeedKPH                                    35\n",
       "tripId                dd8ed7439a33ebe0797e23cb7918ec21\n",
       "endDateTime                 2023-06-01 02:41:56.818000\n",
       "deviceId              c05484db3c0e831f242bdc0ce0c5e847\n",
       "providerType                                  consumer\n",
       "start_lat                                    37.743138\n",
       "start_lon                                  -122.466007\n",
       "end_lat                                      37.735084\n",
       "end_lon                                    -122.500487\n",
       "duration                                       359.739\n",
       "day                                                  1\n",
       "month                                                6\n",
       "year                                              2023\n",
       "dow                                                  3\n",
       "start_hour                                           2\n",
       "end_hour                                             2\n",
       "start_date                                  2023-06-01\n",
       "end_date                                    2023-06-01\n",
       "weekend                                              0\n",
       "Name: 0, dtype: object"
      ]
     },
     "execution_count": 16,
     "metadata": {},
     "output_type": "execute_result"
    }
   ],
   "source": [
    "df.iloc[0]"
   ]
  },
  {
   "cell_type": "code",
   "execution_count": 14,
   "metadata": {},
   "outputs": [
    {
     "data": {
      "text/html": [
       "<div>\n",
       "<style scoped>\n",
       "    .dataframe tbody tr th:only-of-type {\n",
       "        vertical-align: middle;\n",
       "    }\n",
       "\n",
       "    .dataframe tbody tr th {\n",
       "        vertical-align: top;\n",
       "    }\n",
       "\n",
       "    .dataframe thead th {\n",
       "        text-align: right;\n",
       "    }\n",
       "</style>\n",
       "<table border=\"1\" class=\"dataframe\">\n",
       "  <thead>\n",
       "    <tr style=\"text-align: right;\">\n",
       "      <th></th>\n",
       "      <th>tract</th>\n",
       "      <th>Median Household Income</th>\n",
       "      <th>total_pop</th>\n",
       "      <th>pct_female</th>\n",
       "      <th>pct_male</th>\n",
       "      <th>pct_children</th>\n",
       "      <th>pct_20-39</th>\n",
       "      <th>pct_39-64</th>\n",
       "      <th>pct_65+</th>\n",
       "      <th>pct_nonwhite</th>\n",
       "      <th>pct_latine</th>\n",
       "    </tr>\n",
       "  </thead>\n",
       "  <tbody>\n",
       "    <tr>\n",
       "      <th>170</th>\n",
       "      <td>030800</td>\n",
       "      <td>171250.0</td>\n",
       "      <td>6041.0</td>\n",
       "      <td>0.490316</td>\n",
       "      <td>0.509684</td>\n",
       "      <td>0.10048</td>\n",
       "      <td>0.023506</td>\n",
       "      <td>0.190697</td>\n",
       "      <td>0.098659</td>\n",
       "      <td>0.338851</td>\n",
       "      <td>0.049164</td>\n",
       "    </tr>\n",
       "  </tbody>\n",
       "</table>\n",
       "</div>"
      ],
      "text/plain": [
       "      tract  Median Household Income  total_pop  pct_female  pct_male  \\\n",
       "170  030800                 171250.0     6041.0    0.490316  0.509684   \n",
       "\n",
       "     pct_children  pct_20-39  pct_39-64   pct_65+  pct_nonwhite  pct_latine  \n",
       "170       0.10048   0.023506   0.190697  0.098659      0.338851    0.049164  "
      ]
     },
     "execution_count": 14,
     "metadata": {},
     "output_type": "execute_result"
    }
   ],
   "source": [
    "demographics"
   ]
  },
  {
   "cell_type": "code",
   "execution_count": 19,
   "metadata": {},
   "outputs": [
    {
     "data": {
      "text/html": [
       "<div>\n",
       "<style scoped>\n",
       "    .dataframe tbody tr th:only-of-type {\n",
       "        vertical-align: middle;\n",
       "    }\n",
       "\n",
       "    .dataframe tbody tr th {\n",
       "        vertical-align: top;\n",
       "    }\n",
       "\n",
       "    .dataframe thead th {\n",
       "        text-align: right;\n",
       "    }\n",
       "</style>\n",
       "<table border=\"1\" class=\"dataframe\">\n",
       "  <thead>\n",
       "    <tr style=\"text-align: right;\">\n",
       "      <th></th>\n",
       "      <th>tripId</th>\n",
       "      <th>GEOID</th>\n",
       "      <th>geometry_x</th>\n",
       "      <th>geometry_y</th>\n",
       "      <th>line_locs</th>\n",
       "    </tr>\n",
       "  </thead>\n",
       "  <tbody>\n",
       "    <tr>\n",
       "      <th>3658</th>\n",
       "      <td>dd8ed7439a33ebe0797e23cb7918ec21</td>\n",
       "      <td>06075030800</td>\n",
       "      <td>POLYGON ((-122.47573 37.74305, -122.47558 37.7...</td>\n",
       "      <td>LINESTRING (-122.46601 37.74314, -122.50049 37...</td>\n",
       "      <td>(0.0, 1094.7372454378553)</td>\n",
       "    </tr>\n",
       "    <tr>\n",
       "      <th>3659</th>\n",
       "      <td>dd8ed7439a33ebe0797e23cb7918ec21</td>\n",
       "      <td>06075033001</td>\n",
       "      <td>POLYGON ((-122.49451 37.74222, -122.49436 37.7...</td>\n",
       "      <td>LINESTRING (-122.46601 37.74314, -122.50049 37...</td>\n",
       "      <td>(2878.403871091762, 3208.2974503973883)</td>\n",
       "    </tr>\n",
       "    <tr>\n",
       "      <th>3660</th>\n",
       "      <td>dd8ed7439a33ebe0797e23cb7918ec21</td>\n",
       "      <td>06075033002</td>\n",
       "      <td>POLYGON ((-122.49129 37.73730, -122.49090 37.7...</td>\n",
       "      <td>LINESTRING (-122.46601 37.74314, -122.50049 37...</td>\n",
       "      <td>(1094.7372454378553, 2878.403871091762)</td>\n",
       "    </tr>\n",
       "    <tr>\n",
       "      <th>3661</th>\n",
       "      <td>dd8ed7439a33ebe0797e23cb7918ec21</td>\n",
       "      <td>06075060400</td>\n",
       "      <td>POLYGON ((-122.51273 37.73509, -122.51008 37.7...</td>\n",
       "      <td>LINESTRING (-122.46601 37.74314, -122.50049 37...</td>\n",
       "      <td>(3931.2131256589555, 3934.2353148580683)</td>\n",
       "    </tr>\n",
       "    <tr>\n",
       "      <th>3662</th>\n",
       "      <td>dd8ed7439a33ebe0797e23cb7918ec21</td>\n",
       "      <td>06075035300</td>\n",
       "      <td>POLYGON ((-122.50193 37.74938, -122.50086 37.7...</td>\n",
       "      <td>LINESTRING (-122.46601 37.74314, -122.50049 37...</td>\n",
       "      <td>(3208.2974503973883, 3931.2131256589555)</td>\n",
       "    </tr>\n",
       "  </tbody>\n",
       "</table>\n",
       "</div>"
      ],
      "text/plain": [
       "                                tripId        GEOID  \\\n",
       "3658  dd8ed7439a33ebe0797e23cb7918ec21  06075030800   \n",
       "3659  dd8ed7439a33ebe0797e23cb7918ec21  06075033001   \n",
       "3660  dd8ed7439a33ebe0797e23cb7918ec21  06075033002   \n",
       "3661  dd8ed7439a33ebe0797e23cb7918ec21  06075060400   \n",
       "3662  dd8ed7439a33ebe0797e23cb7918ec21  06075035300   \n",
       "\n",
       "                                             geometry_x  \\\n",
       "3658  POLYGON ((-122.47573 37.74305, -122.47558 37.7...   \n",
       "3659  POLYGON ((-122.49451 37.74222, -122.49436 37.7...   \n",
       "3660  POLYGON ((-122.49129 37.73730, -122.49090 37.7...   \n",
       "3661  POLYGON ((-122.51273 37.73509, -122.51008 37.7...   \n",
       "3662  POLYGON ((-122.50193 37.74938, -122.50086 37.7...   \n",
       "\n",
       "                                             geometry_y  \\\n",
       "3658  LINESTRING (-122.46601 37.74314, -122.50049 37...   \n",
       "3659  LINESTRING (-122.46601 37.74314, -122.50049 37...   \n",
       "3660  LINESTRING (-122.46601 37.74314, -122.50049 37...   \n",
       "3661  LINESTRING (-122.46601 37.74314, -122.50049 37...   \n",
       "3662  LINESTRING (-122.46601 37.74314, -122.50049 37...   \n",
       "\n",
       "                                     line_locs  \n",
       "3658                 (0.0, 1094.7372454378553)  \n",
       "3659   (2878.403871091762, 3208.2974503973883)  \n",
       "3660   (1094.7372454378553, 2878.403871091762)  \n",
       "3661  (3931.2131256589555, 3934.2353148580683)  \n",
       "3662  (3208.2974503973883, 3931.2131256589555)  "
      ]
     },
     "execution_count": 19,
     "metadata": {},
     "output_type": "execute_result"
    }
   ],
   "source": [
    "intersected_trips[intersected_trips['tripId'] == 'dd8ed7439a33ebe0797e23cb7918ec21']"
   ]
  }
 ],
 "metadata": {
  "kernelspec": {
   "display_name": ".venv",
   "language": "python",
   "name": "python3"
  },
  "language_info": {
   "codemirror_mode": {
    "name": "ipython",
    "version": 3
   },
   "file_extension": ".py",
   "mimetype": "text/x-python",
   "name": "python",
   "nbconvert_exporter": "python",
   "pygments_lexer": "ipython3",
   "version": "3.10.8"
  }
 },
 "nbformat": 4,
 "nbformat_minor": 2
}
