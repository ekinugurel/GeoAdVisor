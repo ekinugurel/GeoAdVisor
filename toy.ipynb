{
 "cells": [
  {
   "cell_type": "code",
   "execution_count": 7,
   "metadata": {},
   "outputs": [],
   "source": [
    "# Import API modules\n",
    "import numpy as np\n",
    "import pandas as pd\n",
    "import matplotlib.pyplot as plt\n",
    "import seaborn as sns\n",
    "import requests\n",
    "import os\n",
    "import geopandas as gpd\n",
    "# Import linestrings\n",
    "import tradeAreasPreprocessing as tap\n",
    "from shapely.geometry import LineString\n",
    "import census_finder"
   ]
  },
  {
   "cell_type": "code",
   "execution_count": null,
   "metadata": {},
   "outputs": [],
   "source": [
    "# Read token.txt\n",
    "with open(\"inrix_token.txt\", \"r\") as f:\n",
    "    token = f.read()\n",
    "\n",
    "# Use API\n",
    "endpoint = f\"https://api.iq.inrix.com/v1/segments/speed?box=37.757386%7C-122.490667%2C37.746138%7C-122.395481\"\n",
    "r = requests.get(endpoint, headers={'Authorization': f\"Bearer {token}\"})"
   ]
  },
  {
   "cell_type": "code",
   "execution_count": null,
   "metadata": {},
   "outputs": [],
   "source": [
    "od = 'origin'\n",
    "geoFilterType = 'polygon'\n",
    "radius = '0.2km'\n",
    "points = '37.734622%7C-122.471603%2C37.743627%7C-122.463850%2C37.743066%7C-122.475429'\n",
    "providerType = 'consumer'\n",
    "startDateTime = '%3E%3D2023-06-01T02%3A31'\n",
    "endDateTime = '%3C%3D2023-06-15T02%3A31'\n",
    "\n",
    "# Trade Areas API\n",
    "endpoint_TA = f'https://api.iq.inrix.com/v1/trips?od={od}&geoFilterType={geoFilterType}&radius={radius}&points={points}&providerType={providerType}&startDateTime={startDateTime}&endDateTime={endDateTime}'\n",
    "r_TA = requests.get(endpoint_TA, headers={'Authorization': f\"Bearer {token}\"})"
   ]
  },
  {
   "cell_type": "code",
   "execution_count": null,
   "metadata": {},
   "outputs": [],
   "source": [
    "# Convert dictionary to dataframe\n",
    "df = pd.DataFrame.from_dict(r_TA.json()['data'])\n"
   ]
  },
  {
   "cell_type": "code",
   "execution_count": null,
   "metadata": {},
   "outputs": [],
   "source": [
    "# Separate startLoc into two columns: all numbers before comma and all numbers after comma, then convert to floats\n",
    "df['start_lat'] = df['startLoc'].apply(lambda x: x.split(',')[0]).astype(float)\n",
    "df['start_lon'] = df['startLoc'].apply(lambda x: x.split(',')[1]).astype(float)\n",
    "df['end_lat'] = df['endLoc'].apply(lambda x: x.split(',')[0]).astype(float)\n",
    "df['end_lon'] = df['endLoc'].apply(lambda x: x.split(',')[1]).astype(float)\n",
    "\n",
    "# Create linestring from start and end coordinates\n",
    "df['geometry'] = df.apply(lambda x: LineString([(x['start_lon'], x['start_lat']), (x['end_lon'], x['end_lat'])]), axis=1)"
   ]
  },
  {
   "cell_type": "code",
   "execution_count": null,
   "metadata": {},
   "outputs": [],
   "source": [
    "# Read geojson\n",
    "sf = gpd.read_file('San_Francisco_Bay_Region_2020_Census_Tracts.geojson')"
   ]
  },
  {
   "cell_type": "code",
   "execution_count": null,
   "metadata": {},
   "outputs": [],
   "source": [
    "# Convert df to geopandas\n",
    "df = gpd.GeoDataFrame(df, geometry='geometry', crs='EPSG:4326')\n",
    "\n",
    "# Find intersection of linestring and geojson\n",
    "sf['intersections'] = sf.geometry.clip(df.geometry)"
   ]
  },
  {
   "cell_type": "code",
   "execution_count": null,
   "metadata": {},
   "outputs": [],
   "source": [
    "sf[sf['intersections'].notnull()].intersections"
   ]
  },
  {
   "cell_type": "markdown",
   "metadata": {},
   "source": [
    "### Temporal Processing"
   ]
  },
  {
   "cell_type": "code",
   "execution_count": null,
   "metadata": {},
   "outputs": [],
   "source": [
    "df['startDateTime'] = pd.to_datetime(df['startDateTime'], format='%Y-%m-%dT%H:%M:%S.%fZ')\n",
    "df['endDateTime'] = pd.to_datetime(df['endDateTime'], format='%Y-%m-%dT%H:%M:%S.%fZ')\n",
    "\n",
    "df['duration'] = (df['endDateTime'] - df['startDateTime']).dt.total_seconds()\n",
    "\n",
    "df['day'] = df['startDateTime'].dt.day\n",
    "df['month'] = df['startDateTime'].dt.month\n",
    "df['year'] = df['startDateTime'].dt.year\n",
    "df['dow'] = df['startDateTime'].dt.dayofweek\n",
    "df['start_hour'] = df['startDateTime'].dt.hour\n",
    "df['end_hour'] = df['endDateTime'].dt.hour\n",
    "df['start_date'] = df['startDateTime'].dt.date\n",
    "df['end_date'] = df['endDateTime'].dt.date\n",
    "df['weekend'] = df['dow'].apply(lambda x: 1 if x >= 5 else 0)"
   ]
  },
  {
   "cell_type": "markdown",
   "metadata": {},
   "source": [
    "## Weather API?"
   ]
  },
  {
   "cell_type": "code",
   "execution_count": null,
   "metadata": {},
   "outputs": [],
   "source": [
    "with open(\"weather_token.txt\", \"r\") as f:\n",
    "    weather_token = f.read()\n",
    "\n",
    "date = '2023-11-29'\n",
    "\n",
    "city = 'San Francisco'\n",
    "# Use API\n",
    "endpoint_weather = f\"http://api.weatherapi.com/v1/history.json?key={weather_token}&q={city}&dt={date}\"\n",
    "r_weather = requests.get(endpoint_weather)\n",
    "\n",
    "r_weather.json()"
   ]
  },
  {
   "cell_type": "code",
   "execution_count": null,
   "metadata": {},
   "outputs": [],
   "source": [
    "# Read as dataframe\n",
    "df_weather = pd.DataFrame.from_dict(r_weather.json()['forecast']['forecastday'][0]['hour'])"
   ]
  },
  {
   "cell_type": "code",
   "execution_count": null,
   "metadata": {},
   "outputs": [],
   "source": [
    "df_weather"
   ]
  },
  {
   "cell_type": "code",
   "execution_count": 4,
   "metadata": {},
   "outputs": [
    {
     "ename": "AttributeError",
     "evalue": "'tradeAreasPreprocessing' object has no attribute 'tradeAreasPreprocessing'",
     "output_type": "error",
     "traceback": [
      "\u001b[0;31m---------------------------------------------------------------------------\u001b[0m",
      "\u001b[0;31mAttributeError\u001b[0m                            Traceback (most recent call last)",
      "\u001b[1;32m/Users/ekinokos2/Library/CloudStorage/OneDrive-UW/GeoAdVisor/toy.ipynb Cell 15\u001b[0m line \u001b[0;36m6\n\u001b[1;32m      <a href='vscode-notebook-cell:/Users/ekinokos2/Library/CloudStorage/OneDrive-UW/GeoAdVisor/toy.ipynb#X20sZmlsZQ%3D%3D?line=2'>3</a>\u001b[0m     token \u001b[39m=\u001b[39m f\u001b[39m.\u001b[39mread()\n\u001b[1;32m      <a href='vscode-notebook-cell:/Users/ekinokos2/Library/CloudStorage/OneDrive-UW/GeoAdVisor/toy.ipynb#X20sZmlsZQ%3D%3D?line=4'>5</a>\u001b[0m \u001b[39m# Initialize class\u001b[39;00m\n\u001b[0;32m----> <a href='vscode-notebook-cell:/Users/ekinokos2/Library/CloudStorage/OneDrive-UW/GeoAdVisor/toy.ipynb#X20sZmlsZQ%3D%3D?line=5'>6</a>\u001b[0m tap \u001b[39m=\u001b[39m tap\u001b[39m.\u001b[39;49mtradeAreasPreprocessing(token\u001b[39m=\u001b[39mtoken,\n\u001b[1;32m      <a href='vscode-notebook-cell:/Users/ekinokos2/Library/CloudStorage/OneDrive-UW/GeoAdVisor/toy.ipynb#X20sZmlsZQ%3D%3D?line=6'>7</a>\u001b[0m                                   od \u001b[39m=\u001b[39m \u001b[39m'\u001b[39m\u001b[39morigin\u001b[39m\u001b[39m'\u001b[39m, \n\u001b[1;32m      <a href='vscode-notebook-cell:/Users/ekinokos2/Library/CloudStorage/OneDrive-UW/GeoAdVisor/toy.ipynb#X20sZmlsZQ%3D%3D?line=7'>8</a>\u001b[0m                                   geoFilterType \u001b[39m=\u001b[39m \u001b[39m'\u001b[39m\u001b[39mpolygon\u001b[39m\u001b[39m'\u001b[39m,\n\u001b[1;32m      <a href='vscode-notebook-cell:/Users/ekinokos2/Library/CloudStorage/OneDrive-UW/GeoAdVisor/toy.ipynb#X20sZmlsZQ%3D%3D?line=8'>9</a>\u001b[0m                                 radius \u001b[39m=\u001b[39m \u001b[39m'\u001b[39m\u001b[39m0.2km\u001b[39m\u001b[39m'\u001b[39m,\n\u001b[1;32m     <a href='vscode-notebook-cell:/Users/ekinokos2/Library/CloudStorage/OneDrive-UW/GeoAdVisor/toy.ipynb#X20sZmlsZQ%3D%3D?line=9'>10</a>\u001b[0m                                 points \u001b[39m=\u001b[39m \u001b[39m'\u001b[39m\u001b[39m37.734622\u001b[39m\u001b[39m%\u001b[39m\u001b[39m7C-122.471603\u001b[39m\u001b[39m%\u001b[39m\u001b[39m2C37.743627\u001b[39m\u001b[39m%\u001b[39m\u001b[39m7C-122.463850\u001b[39m\u001b[39m%\u001b[39m\u001b[39m2C37.743066\u001b[39m\u001b[39m%\u001b[39m\u001b[39m7C-122.475429\u001b[39m\u001b[39m'\u001b[39m,\n\u001b[1;32m     <a href='vscode-notebook-cell:/Users/ekinokos2/Library/CloudStorage/OneDrive-UW/GeoAdVisor/toy.ipynb#X20sZmlsZQ%3D%3D?line=10'>11</a>\u001b[0m                                 providerType \u001b[39m=\u001b[39m \u001b[39m'\u001b[39m\u001b[39mconsumer\u001b[39m\u001b[39m'\u001b[39m,\n\u001b[1;32m     <a href='vscode-notebook-cell:/Users/ekinokos2/Library/CloudStorage/OneDrive-UW/GeoAdVisor/toy.ipynb#X20sZmlsZQ%3D%3D?line=11'>12</a>\u001b[0m                                 startDateTime \u001b[39m=\u001b[39m \u001b[39m'\u001b[39m\u001b[39m%3E\u001b[39;00m\u001b[39m%\u001b[39m\u001b[39m3D2023-06-01T02\u001b[39m\u001b[39m%\u001b[39m\u001b[39m3A31\u001b[39m\u001b[39m'\u001b[39m,\n\u001b[1;32m     <a href='vscode-notebook-cell:/Users/ekinokos2/Library/CloudStorage/OneDrive-UW/GeoAdVisor/toy.ipynb#X20sZmlsZQ%3D%3D?line=12'>13</a>\u001b[0m                                 endDateTime \u001b[39m=\u001b[39m \u001b[39m'\u001b[39m\u001b[39m%\u001b[39m\u001b[39m3C\u001b[39m\u001b[39m%\u001b[39m\u001b[39m3D2023-06-15T02\u001b[39m\u001b[39m%\u001b[39m\u001b[39m3A31\u001b[39m\u001b[39m'\u001b[39m)\n\u001b[1;32m     <a href='vscode-notebook-cell:/Users/ekinokos2/Library/CloudStorage/OneDrive-UW/GeoAdVisor/toy.ipynb#X20sZmlsZQ%3D%3D?line=14'>15</a>\u001b[0m \u001b[39m# Read data\u001b[39;00m\n\u001b[1;32m     <a href='vscode-notebook-cell:/Users/ekinokos2/Library/CloudStorage/OneDrive-UW/GeoAdVisor/toy.ipynb#X20sZmlsZQ%3D%3D?line=15'>16</a>\u001b[0m df \u001b[39m=\u001b[39m tap\u001b[39m.\u001b[39mread_data()\n",
      "\u001b[0;31mAttributeError\u001b[0m: 'tradeAreasPreprocessing' object has no attribute 'tradeAreasPreprocessing'"
     ]
    }
   ],
   "source": [
    "\n",
    "# Read token.txt\n",
    "with open(\"inrix_token.txt\", \"r\") as f:\n",
    "    token = f.read()\n",
    "    \n",
    "# Initialize class\n",
    "tap = tap.tradeAreasPreprocessing(token=token,\n",
    "                                  od = 'origin', \n",
    "                                  geoFilterType = 'polygon',\n",
    "                                radius = '0.2km',\n",
    "                                points = '37.734622%7C-122.471603%2C37.743627%7C-122.463850%2C37.743066%7C-122.475429',\n",
    "                                providerType = 'consumer',\n",
    "                                startDateTime = '%3E%3D2023-06-01T02%3A31',\n",
    "                                endDateTime = '%3C%3D2023-06-15T02%3A31')\n",
    "\n",
    "# Read data\n",
    "df = tap.read_data()"
   ]
  },
  {
   "cell_type": "code",
   "execution_count": 3,
   "metadata": {},
   "outputs": [
    {
     "ename": "KeyError",
     "evalue": "'data'",
     "output_type": "error",
     "traceback": [
      "\u001b[0;31m---------------------------------------------------------------------------\u001b[0m",
      "\u001b[0;31mKeyError\u001b[0m                                  Traceback (most recent call last)",
      "\u001b[1;32m/Users/ekinokos2/Library/CloudStorage/OneDrive-UW/GeoAdVisor/toy.ipynb Cell 16\u001b[0m line \u001b[0;36m1\n\u001b[0;32m----> <a href='vscode-notebook-cell:/Users/ekinokos2/Library/CloudStorage/OneDrive-UW/GeoAdVisor/toy.ipynb#X21sZmlsZQ%3D%3D?line=0'>1</a>\u001b[0m df \u001b[39m=\u001b[39m tap\u001b[39m.\u001b[39;49mcreate_dataframe(df)\n",
      "File \u001b[0;32m~/Library/CloudStorage/OneDrive-UW/GeoAdVisor/tradeAreasPreprocessing.py:31\u001b[0m, in \u001b[0;36mtradeAreasPreprocessing.create_dataframe\u001b[0;34m(self, data)\u001b[0m\n\u001b[1;32m     27\u001b[0m \u001b[39mdef\u001b[39;00m \u001b[39mcreate_dataframe\u001b[39m(\u001b[39mself\u001b[39m, data):\n\u001b[1;32m     28\u001b[0m \u001b[39m    \u001b[39m\u001b[39m\"\"\"\u001b[39;00m\n\u001b[1;32m     29\u001b[0m \u001b[39m    Create dataframe from data\u001b[39;00m\n\u001b[1;32m     30\u001b[0m \u001b[39m    \"\"\"\u001b[39;00m\n\u001b[0;32m---> 31\u001b[0m     df \u001b[39m=\u001b[39m pd\u001b[39m.\u001b[39mDataFrame\u001b[39m.\u001b[39mfrom_dict(data[\u001b[39m'\u001b[39;49m\u001b[39mdata\u001b[39;49m\u001b[39m'\u001b[39;49m])\n\u001b[1;32m     32\u001b[0m     \u001b[39mreturn\u001b[39;00m df\n",
      "\u001b[0;31mKeyError\u001b[0m: 'data'"
     ]
    }
   ],
   "source": [
    "df = tap.create_dataframe(df)"
   ]
  },
  {
   "cell_type": "code",
   "execution_count": 4,
   "metadata": {},
   "outputs": [],
   "source": [
    "df = tap.separate_coordinates(df)\n",
    "\n",
    "df = tap.add_temporal_vars(df)\n",
    "\n",
    "#df = tap.add_mode(df)"
   ]
  },
  {
   "cell_type": "code",
   "execution_count": 5,
   "metadata": {},
   "outputs": [
    {
     "name": "stdout",
     "output_type": "stream",
     "text": [
      "Using FIPS code '06' for input 'CA'\n"
     ]
    }
   ],
   "source": [
    "trips_gdf = tap.get_trip_geometry(df)\n",
    "\n",
    "ca_tiger = tap.downloadShapefile()"
   ]
  },
  {
   "cell_type": "code",
   "execution_count": 6,
   "metadata": {},
   "outputs": [],
   "source": [
    "intersected_trips = tap.intersectedTrips(trips_gdf, ca_tiger)"
   ]
  },
  {
   "cell_type": "code",
   "execution_count": 32,
   "metadata": {},
   "outputs": [],
   "source": [
    "# Reload magic functions\n",
    "%reload_ext autoreload\n",
    "%autoreload 2"
   ]
  },
  {
   "cell_type": "code",
   "execution_count": 4,
   "metadata": {},
   "outputs": [],
   "source": [
    "# read in files\n",
    "geojson_location = \"/Users/ekinokos2/Library/CloudStorage/OneDrive-UW/GeoAdVisor/sf-tracts-2020-clipped.geojson\"\n",
    "census_data = \"/Users/ekinokos2/Library/CloudStorage/OneDrive-UW/GeoAdVisor/census_data/census_data_clean.csv\"\n",
    "\n",
    "# Load the GeoJSON file into a GeoDataFrame and csv into df\n",
    "gdf = gpd.read_file(geojson_location)\n",
    "census_df = pd.read_csv(census_data, dtype={\"tract\": str})\n",
    "\n",
    "# Filter out invalid geometries\n",
    "gdf = gdf[gdf.is_valid]\n",
    "\n",
    "# INitialize class\n",
    "cf = census_finder.censusFinder(gdf, census_df)\n",
    "\n",
    "tract_no = cf.get_census_tract_info(37.734622, -122.471603)\n",
    "\n",
    "demographics = cf.lookup_demographics(tract_no)"
   ]
  },
  {
   "cell_type": "code",
   "execution_count": 5,
   "metadata": {},
   "outputs": [
    {
     "data": {
      "text/plain": [
       "Index(['tract', 'Median Household Income', 'total_pop', 'pct_female',\n",
       "       'pct_male', 'pct_children', 'pct_20-39', 'pct_39-64', 'pct_65+',\n",
       "       'pct_nonwhite', 'pct_latine'],\n",
       "      dtype='object')"
      ]
     },
     "execution_count": 5,
     "metadata": {},
     "output_type": "execute_result"
    }
   ],
   "source": [
    "demographics.columns"
   ]
  },
  {
   "cell_type": "code",
   "execution_count": 115,
   "metadata": {},
   "outputs": [],
   "source": [
    "def append_demographics(row):\n",
    "    tract_no = cf.get_census_tract_info(row['start_lat'], row['start_lon'])\n",
    "    demographics = cf.lookup_demographics(tract_no)\n",
    "    return demographics.iloc[0]\n",
    "\n",
    "demographics_df = df.apply(append_demographics, axis=1)\n",
    "\n",
    "result_df = pd.concat([intersected_trips, demographics_df], axis=1).iloc[:, :37]"
   ]
  },
  {
   "cell_type": "code",
   "execution_count": 96,
   "metadata": {},
   "outputs": [],
   "source": [
    "def append_demographics(row):\n",
    "    tract_no = cf.get_census_tract_info(row['start_lat'], row['start_lon'])\n",
    "    demographics = cf.lookup_demographics(tract_no)\n",
    "    demo_series = demographics.iloc[0]\n",
    "    demo_series.index = ['tract', 'Median Household Income', 'total_pop', 'pct_female', 'pct_male', 'pct_children', 'pct_20-39', 'pct_39-64', 'pct_65+', 'pct_nonwhite', 'pct_latine'] \n",
    "    return demo_series\n",
    "demographics_df = df.apply(append_demographics, axis=1)\n",
    "result_df = pd.concat([df.reset_index(drop=True), demographics_df.reset_index(drop=True)], axis=1).iloc[:, :37]"
   ]
  },
  {
   "cell_type": "code",
   "execution_count": 22,
   "metadata": {},
   "outputs": [],
   "source": [
    "\n",
    "# Example usage\n",
    "latitude = 37.743138  # Replace with actual latitude\n",
    "longitude = -122.466007  # Replace with actual longitude\n",
    "census_tract_info = census_finder.get_census_tract_info(latitude, longitude, gdf)\n"
   ]
  },
  {
   "cell_type": "code",
   "execution_count": 23,
   "metadata": {},
   "outputs": [
    {
     "data": {
      "text/plain": [
       "{'TRACTCE20': '030800'}"
      ]
     },
     "execution_count": 23,
     "metadata": {},
     "output_type": "execute_result"
    }
   ],
   "source": [
    "census_tract_info"
   ]
  },
  {
   "cell_type": "code",
   "execution_count": 2,
   "metadata": {},
   "outputs": [
    {
     "ename": "NameError",
     "evalue": "name 'demographics' is not defined",
     "output_type": "error",
     "traceback": [
      "\u001b[0;31m---------------------------------------------------------------------------\u001b[0m",
      "\u001b[0;31mNameError\u001b[0m                                 Traceback (most recent call last)",
      "\u001b[1;32m/Users/ekinokos2/Library/CloudStorage/OneDrive-UW/GeoAdVisor/toy.ipynb Cell 26\u001b[0m line \u001b[0;36m1\n\u001b[0;32m----> <a href='vscode-notebook-cell:/Users/ekinokos2/Library/CloudStorage/OneDrive-UW/GeoAdVisor/toy.ipynb#X62sZmlsZQ%3D%3D?line=0'>1</a>\u001b[0m demographics\n",
      "\u001b[0;31mNameError\u001b[0m: name 'demographics' is not defined"
     ]
    }
   ],
   "source": [
    "demographics"
   ]
  },
  {
   "cell_type": "code",
   "execution_count": 19,
   "metadata": {},
   "outputs": [
    {
     "data": {
      "text/html": [
       "<div>\n",
       "<style scoped>\n",
       "    .dataframe tbody tr th:only-of-type {\n",
       "        vertical-align: middle;\n",
       "    }\n",
       "\n",
       "    .dataframe tbody tr th {\n",
       "        vertical-align: top;\n",
       "    }\n",
       "\n",
       "    .dataframe thead th {\n",
       "        text-align: right;\n",
       "    }\n",
       "</style>\n",
       "<table border=\"1\" class=\"dataframe\">\n",
       "  <thead>\n",
       "    <tr style=\"text-align: right;\">\n",
       "      <th></th>\n",
       "      <th>tripId</th>\n",
       "      <th>GEOID</th>\n",
       "      <th>geometry_x</th>\n",
       "      <th>geometry_y</th>\n",
       "      <th>line_locs</th>\n",
       "    </tr>\n",
       "  </thead>\n",
       "  <tbody>\n",
       "    <tr>\n",
       "      <th>3658</th>\n",
       "      <td>dd8ed7439a33ebe0797e23cb7918ec21</td>\n",
       "      <td>06075030800</td>\n",
       "      <td>POLYGON ((-122.47573 37.74305, -122.47558 37.7...</td>\n",
       "      <td>LINESTRING (-122.46601 37.74314, -122.50049 37...</td>\n",
       "      <td>(0.0, 1094.7372454378553)</td>\n",
       "    </tr>\n",
       "    <tr>\n",
       "      <th>3659</th>\n",
       "      <td>dd8ed7439a33ebe0797e23cb7918ec21</td>\n",
       "      <td>06075033001</td>\n",
       "      <td>POLYGON ((-122.49451 37.74222, -122.49436 37.7...</td>\n",
       "      <td>LINESTRING (-122.46601 37.74314, -122.50049 37...</td>\n",
       "      <td>(2878.403871091762, 3208.2974503973883)</td>\n",
       "    </tr>\n",
       "    <tr>\n",
       "      <th>3660</th>\n",
       "      <td>dd8ed7439a33ebe0797e23cb7918ec21</td>\n",
       "      <td>06075033002</td>\n",
       "      <td>POLYGON ((-122.49129 37.73730, -122.49090 37.7...</td>\n",
       "      <td>LINESTRING (-122.46601 37.74314, -122.50049 37...</td>\n",
       "      <td>(1094.7372454378553, 2878.403871091762)</td>\n",
       "    </tr>\n",
       "    <tr>\n",
       "      <th>3661</th>\n",
       "      <td>dd8ed7439a33ebe0797e23cb7918ec21</td>\n",
       "      <td>06075060400</td>\n",
       "      <td>POLYGON ((-122.51273 37.73509, -122.51008 37.7...</td>\n",
       "      <td>LINESTRING (-122.46601 37.74314, -122.50049 37...</td>\n",
       "      <td>(3931.2131256589555, 3934.2353148580683)</td>\n",
       "    </tr>\n",
       "    <tr>\n",
       "      <th>3662</th>\n",
       "      <td>dd8ed7439a33ebe0797e23cb7918ec21</td>\n",
       "      <td>06075035300</td>\n",
       "      <td>POLYGON ((-122.50193 37.74938, -122.50086 37.7...</td>\n",
       "      <td>LINESTRING (-122.46601 37.74314, -122.50049 37...</td>\n",
       "      <td>(3208.2974503973883, 3931.2131256589555)</td>\n",
       "    </tr>\n",
       "  </tbody>\n",
       "</table>\n",
       "</div>"
      ],
      "text/plain": [
       "                                tripId        GEOID  \\\n",
       "3658  dd8ed7439a33ebe0797e23cb7918ec21  06075030800   \n",
       "3659  dd8ed7439a33ebe0797e23cb7918ec21  06075033001   \n",
       "3660  dd8ed7439a33ebe0797e23cb7918ec21  06075033002   \n",
       "3661  dd8ed7439a33ebe0797e23cb7918ec21  06075060400   \n",
       "3662  dd8ed7439a33ebe0797e23cb7918ec21  06075035300   \n",
       "\n",
       "                                             geometry_x  \\\n",
       "3658  POLYGON ((-122.47573 37.74305, -122.47558 37.7...   \n",
       "3659  POLYGON ((-122.49451 37.74222, -122.49436 37.7...   \n",
       "3660  POLYGON ((-122.49129 37.73730, -122.49090 37.7...   \n",
       "3661  POLYGON ((-122.51273 37.73509, -122.51008 37.7...   \n",
       "3662  POLYGON ((-122.50193 37.74938, -122.50086 37.7...   \n",
       "\n",
       "                                             geometry_y  \\\n",
       "3658  LINESTRING (-122.46601 37.74314, -122.50049 37...   \n",
       "3659  LINESTRING (-122.46601 37.74314, -122.50049 37...   \n",
       "3660  LINESTRING (-122.46601 37.74314, -122.50049 37...   \n",
       "3661  LINESTRING (-122.46601 37.74314, -122.50049 37...   \n",
       "3662  LINESTRING (-122.46601 37.74314, -122.50049 37...   \n",
       "\n",
       "                                     line_locs  \n",
       "3658                 (0.0, 1094.7372454378553)  \n",
       "3659   (2878.403871091762, 3208.2974503973883)  \n",
       "3660   (1094.7372454378553, 2878.403871091762)  \n",
       "3661  (3931.2131256589555, 3934.2353148580683)  \n",
       "3662  (3208.2974503973883, 3931.2131256589555)  "
      ]
     },
     "execution_count": 19,
     "metadata": {},
     "output_type": "execute_result"
    }
   ],
   "source": [
    "intersected_trips[intersected_trips['tripId'] == 'dd8ed7439a33ebe0797e23cb7918ec21']"
   ]
  },
  {
   "cell_type": "code",
   "execution_count": 12,
   "metadata": {},
   "outputs": [],
   "source": [
    "import altair as alt\n",
    "\n",
    "geojson_location = \"/Users/ekinokos2/Library/CloudStorage/OneDrive-UW/GeoAdVisor/sf-tracts-2020-clipped.geojson\"\n",
    "geometry = gpd.read_file(geojson_location)\n",
    "data = pd.read_csv('origin_demographics.csv')\n"
   ]
  },
  {
   "cell_type": "code",
   "execution_count": 19,
   "metadata": {},
   "outputs": [],
   "source": [
    "geometry['TRACTCE20'] = geometry['TRACTCE20'].astype(int)"
   ]
  },
  {
   "cell_type": "code",
   "execution_count": 21,
   "metadata": {},
   "outputs": [
    {
     "data": {
      "text/html": [
       "<div>\n",
       "<style scoped>\n",
       "    .dataframe tbody tr th:only-of-type {\n",
       "        vertical-align: middle;\n",
       "    }\n",
       "\n",
       "    .dataframe tbody tr th {\n",
       "        vertical-align: top;\n",
       "    }\n",
       "\n",
       "    .dataframe thead th {\n",
       "        text-align: right;\n",
       "    }\n",
       "</style>\n",
       "<table border=\"1\" class=\"dataframe\">\n",
       "  <thead>\n",
       "    <tr style=\"text-align: right;\">\n",
       "      <th></th>\n",
       "      <th>TRACTCE20</th>\n",
       "      <th>geometry</th>\n",
       "      <th>providerHash</th>\n",
       "      <th>startLoc</th>\n",
       "      <th>startDateTime</th>\n",
       "      <th>endLoc</th>\n",
       "      <th>endpointType</th>\n",
       "      <th>tripDistanceMeters</th>\n",
       "      <th>tripMeanSpeedKPH</th>\n",
       "      <th>tripId</th>\n",
       "      <th>...</th>\n",
       "      <th>Median Household Income</th>\n",
       "      <th>total_pop</th>\n",
       "      <th>pct_female</th>\n",
       "      <th>pct_male</th>\n",
       "      <th>pct_children</th>\n",
       "      <th>pct_20-39</th>\n",
       "      <th>pct_39-64</th>\n",
       "      <th>pct_65+</th>\n",
       "      <th>pct_nonwhite</th>\n",
       "      <th>pct_latine</th>\n",
       "    </tr>\n",
       "  </thead>\n",
       "  <tbody>\n",
       "    <tr>\n",
       "      <th>0</th>\n",
       "      <td>23300</td>\n",
       "      <td>MULTIPOLYGON (((-122.39987 37.73029, -122.4021...</td>\n",
       "      <td>98b297950041a42470269d56260243a1</td>\n",
       "      <td>37.72665,-122.393829</td>\n",
       "      <td>2023-06-01 03:33:07.000</td>\n",
       "      <td>37.922606,-122.061308</td>\n",
       "      <td>1.0</td>\n",
       "      <td>47122.0</td>\n",
       "      <td>64.0</td>\n",
       "      <td>88ba08c9be12cd16aa4c49fe583280f5</td>\n",
       "      <td>...</td>\n",
       "      <td>67279.0</td>\n",
       "      <td>3930.0</td>\n",
       "      <td>0.502036</td>\n",
       "      <td>0.497964</td>\n",
       "      <td>0.114758</td>\n",
       "      <td>0.025700</td>\n",
       "      <td>0.166667</td>\n",
       "      <td>0.093130</td>\n",
       "      <td>0.889313</td>\n",
       "      <td>0.215522</td>\n",
       "    </tr>\n",
       "    <tr>\n",
       "      <th>1</th>\n",
       "      <td>23300</td>\n",
       "      <td>MULTIPOLYGON (((-122.39987 37.73029, -122.4021...</td>\n",
       "      <td>0353ab4cbed5beae847a7ff6e220b5cf</td>\n",
       "      <td>37.7267,-122.394</td>\n",
       "      <td>2023-06-01 04:36:39.000</td>\n",
       "      <td>37.024,-121.564</td>\n",
       "      <td>3.0</td>\n",
       "      <td>172889.0</td>\n",
       "      <td>87.0</td>\n",
       "      <td>155d3b4b494c3fb4aaff7586a40c37a2</td>\n",
       "      <td>...</td>\n",
       "      <td>67279.0</td>\n",
       "      <td>3930.0</td>\n",
       "      <td>0.502036</td>\n",
       "      <td>0.497964</td>\n",
       "      <td>0.114758</td>\n",
       "      <td>0.025700</td>\n",
       "      <td>0.166667</td>\n",
       "      <td>0.093130</td>\n",
       "      <td>0.889313</td>\n",
       "      <td>0.215522</td>\n",
       "    </tr>\n",
       "    <tr>\n",
       "      <th>2</th>\n",
       "      <td>23300</td>\n",
       "      <td>MULTIPOLYGON (((-122.39987 37.73029, -122.4021...</td>\n",
       "      <td>98b297950041a42470269d56260243a1</td>\n",
       "      <td>37.724185,-122.394971</td>\n",
       "      <td>2023-06-01 14:13:51.000</td>\n",
       "      <td>37.434785,-122.179181</td>\n",
       "      <td>3.0</td>\n",
       "      <td>49995.0</td>\n",
       "      <td>83.0</td>\n",
       "      <td>671ac5addde1e682ae8d8eebbeae075e</td>\n",
       "      <td>...</td>\n",
       "      <td>67279.0</td>\n",
       "      <td>3930.0</td>\n",
       "      <td>0.502036</td>\n",
       "      <td>0.497964</td>\n",
       "      <td>0.114758</td>\n",
       "      <td>0.025700</td>\n",
       "      <td>0.166667</td>\n",
       "      <td>0.093130</td>\n",
       "      <td>0.889313</td>\n",
       "      <td>0.215522</td>\n",
       "    </tr>\n",
       "    <tr>\n",
       "      <th>3</th>\n",
       "      <td>23300</td>\n",
       "      <td>MULTIPOLYGON (((-122.39987 37.73029, -122.4021...</td>\n",
       "      <td>c3e878e27f52e2a57ace4d9a76fd9acf</td>\n",
       "      <td>37.724993,-122.396125</td>\n",
       "      <td>2023-06-01 14:49:20.596</td>\n",
       "      <td>37.730983,-122.391972</td>\n",
       "      <td>2.0</td>\n",
       "      <td>796.0</td>\n",
       "      <td>8.0</td>\n",
       "      <td>c9bbf4166a99e5e561ab1b36422cdf9e</td>\n",
       "      <td>...</td>\n",
       "      <td>67279.0</td>\n",
       "      <td>3930.0</td>\n",
       "      <td>0.502036</td>\n",
       "      <td>0.497964</td>\n",
       "      <td>0.114758</td>\n",
       "      <td>0.025700</td>\n",
       "      <td>0.166667</td>\n",
       "      <td>0.093130</td>\n",
       "      <td>0.889313</td>\n",
       "      <td>0.215522</td>\n",
       "    </tr>\n",
       "    <tr>\n",
       "      <th>4</th>\n",
       "      <td>23300</td>\n",
       "      <td>MULTIPOLYGON (((-122.39987 37.73029, -122.4021...</td>\n",
       "      <td>0353ab4cbed5beae847a7ff6e220b5cf</td>\n",
       "      <td>37.7283,-122.4</td>\n",
       "      <td>2023-06-01 15:55:54.000</td>\n",
       "      <td>37.651,-122.481</td>\n",
       "      <td>1.0</td>\n",
       "      <td>16492.0</td>\n",
       "      <td>56.0</td>\n",
       "      <td>593314aba44bcb1544b5d9eec78c8af4</td>\n",
       "      <td>...</td>\n",
       "      <td>67279.0</td>\n",
       "      <td>3930.0</td>\n",
       "      <td>0.502036</td>\n",
       "      <td>0.497964</td>\n",
       "      <td>0.114758</td>\n",
       "      <td>0.025700</td>\n",
       "      <td>0.166667</td>\n",
       "      <td>0.093130</td>\n",
       "      <td>0.889313</td>\n",
       "      <td>0.215522</td>\n",
       "    </tr>\n",
       "    <tr>\n",
       "      <th>...</th>\n",
       "      <td>...</td>\n",
       "      <td>...</td>\n",
       "      <td>...</td>\n",
       "      <td>...</td>\n",
       "      <td>...</td>\n",
       "      <td>...</td>\n",
       "      <td>...</td>\n",
       "      <td>...</td>\n",
       "      <td>...</td>\n",
       "      <td>...</td>\n",
       "      <td>...</td>\n",
       "      <td>...</td>\n",
       "      <td>...</td>\n",
       "      <td>...</td>\n",
       "      <td>...</td>\n",
       "      <td>...</td>\n",
       "      <td>...</td>\n",
       "      <td>...</td>\n",
       "      <td>...</td>\n",
       "      <td>...</td>\n",
       "      <td>...</td>\n",
       "    </tr>\n",
       "    <tr>\n",
       "      <th>195563</th>\n",
       "      <td>13101</td>\n",
       "      <td>MULTIPOLYGON (((-122.42689 37.79627, -122.4258...</td>\n",
       "      <td>c3e878e27f52e2a57ace4d9a76fd9acf</td>\n",
       "      <td>37.795684,-122.42677</td>\n",
       "      <td>2023-06-02 18:43:46.663</td>\n",
       "      <td>37.429976,-122.120482</td>\n",
       "      <td>3.0</td>\n",
       "      <td>55068.0</td>\n",
       "      <td>52.0</td>\n",
       "      <td>f401e4b215ac3ecf9d0ec1332e303660</td>\n",
       "      <td>...</td>\n",
       "      <td>211765.0</td>\n",
       "      <td>4088.0</td>\n",
       "      <td>0.521037</td>\n",
       "      <td>0.478963</td>\n",
       "      <td>0.077789</td>\n",
       "      <td>0.022994</td>\n",
       "      <td>0.297945</td>\n",
       "      <td>0.045254</td>\n",
       "      <td>0.328033</td>\n",
       "      <td>0.062378</td>\n",
       "    </tr>\n",
       "    <tr>\n",
       "      <th>195564</th>\n",
       "      <td>13101</td>\n",
       "      <td>MULTIPOLYGON (((-122.42689 37.79627, -122.4258...</td>\n",
       "      <td>c3e878e27f52e2a57ace4d9a76fd9acf</td>\n",
       "      <td>37.792101,-122.425135</td>\n",
       "      <td>2023-06-02 20:03:50.080</td>\n",
       "      <td>37.864861,-122.497879</td>\n",
       "      <td>3.0</td>\n",
       "      <td>11751.0</td>\n",
       "      <td>32.0</td>\n",
       "      <td>2433dc1e609ec19fb972730724f36771</td>\n",
       "      <td>...</td>\n",
       "      <td>211765.0</td>\n",
       "      <td>4088.0</td>\n",
       "      <td>0.521037</td>\n",
       "      <td>0.478963</td>\n",
       "      <td>0.077789</td>\n",
       "      <td>0.022994</td>\n",
       "      <td>0.297945</td>\n",
       "      <td>0.045254</td>\n",
       "      <td>0.328033</td>\n",
       "      <td>0.062378</td>\n",
       "    </tr>\n",
       "    <tr>\n",
       "      <th>195565</th>\n",
       "      <td>13101</td>\n",
       "      <td>MULTIPOLYGON (((-122.42689 37.79627, -122.4258...</td>\n",
       "      <td>c3e878e27f52e2a57ace4d9a76fd9acf</td>\n",
       "      <td>37.793237,-122.426252</td>\n",
       "      <td>2023-06-02 20:13:48.531</td>\n",
       "      <td>37.791059,-122.432599</td>\n",
       "      <td>0.0</td>\n",
       "      <td>608.0</td>\n",
       "      <td>12.0</td>\n",
       "      <td>d3924045db4ec57627e446ce1b3ac926</td>\n",
       "      <td>...</td>\n",
       "      <td>211765.0</td>\n",
       "      <td>4088.0</td>\n",
       "      <td>0.521037</td>\n",
       "      <td>0.478963</td>\n",
       "      <td>0.077789</td>\n",
       "      <td>0.022994</td>\n",
       "      <td>0.297945</td>\n",
       "      <td>0.045254</td>\n",
       "      <td>0.328033</td>\n",
       "      <td>0.062378</td>\n",
       "    </tr>\n",
       "    <tr>\n",
       "      <th>195566</th>\n",
       "      <td>13101</td>\n",
       "      <td>MULTIPOLYGON (((-122.42689 37.79627, -122.4258...</td>\n",
       "      <td>f4f6dce2f3a0f9dada0c2b5b66452017</td>\n",
       "      <td>37.79589,-122.423533</td>\n",
       "      <td>2023-06-02 21:36:11.000</td>\n",
       "      <td>37.786061,-122.422822</td>\n",
       "      <td>0.0</td>\n",
       "      <td>1268.0</td>\n",
       "      <td>11.0</td>\n",
       "      <td>3b287fe23c68f9f67d9268a328bc22da</td>\n",
       "      <td>...</td>\n",
       "      <td>211765.0</td>\n",
       "      <td>4088.0</td>\n",
       "      <td>0.521037</td>\n",
       "      <td>0.478963</td>\n",
       "      <td>0.077789</td>\n",
       "      <td>0.022994</td>\n",
       "      <td>0.297945</td>\n",
       "      <td>0.045254</td>\n",
       "      <td>0.328033</td>\n",
       "      <td>0.062378</td>\n",
       "    </tr>\n",
       "    <tr>\n",
       "      <th>195567</th>\n",
       "      <td>17903</td>\n",
       "      <td>MULTIPOLYGON (((-122.36877 37.81270, -122.3675...</td>\n",
       "      <td>NaN</td>\n",
       "      <td>NaN</td>\n",
       "      <td>NaN</td>\n",
       "      <td>NaN</td>\n",
       "      <td>NaN</td>\n",
       "      <td>NaN</td>\n",
       "      <td>NaN</td>\n",
       "      <td>NaN</td>\n",
       "      <td>...</td>\n",
       "      <td>NaN</td>\n",
       "      <td>NaN</td>\n",
       "      <td>NaN</td>\n",
       "      <td>NaN</td>\n",
       "      <td>NaN</td>\n",
       "      <td>NaN</td>\n",
       "      <td>NaN</td>\n",
       "      <td>NaN</td>\n",
       "      <td>NaN</td>\n",
       "      <td>NaN</td>\n",
       "    </tr>\n",
       "  </tbody>\n",
       "</table>\n",
       "<p>195568 rows × 38 columns</p>\n",
       "</div>"
      ],
      "text/plain": [
       "        TRACTCE20                                           geometry  \\\n",
       "0           23300  MULTIPOLYGON (((-122.39987 37.73029, -122.4021...   \n",
       "1           23300  MULTIPOLYGON (((-122.39987 37.73029, -122.4021...   \n",
       "2           23300  MULTIPOLYGON (((-122.39987 37.73029, -122.4021...   \n",
       "3           23300  MULTIPOLYGON (((-122.39987 37.73029, -122.4021...   \n",
       "4           23300  MULTIPOLYGON (((-122.39987 37.73029, -122.4021...   \n",
       "...           ...                                                ...   \n",
       "195563      13101  MULTIPOLYGON (((-122.42689 37.79627, -122.4258...   \n",
       "195564      13101  MULTIPOLYGON (((-122.42689 37.79627, -122.4258...   \n",
       "195565      13101  MULTIPOLYGON (((-122.42689 37.79627, -122.4258...   \n",
       "195566      13101  MULTIPOLYGON (((-122.42689 37.79627, -122.4258...   \n",
       "195567      17903  MULTIPOLYGON (((-122.36877 37.81270, -122.3675...   \n",
       "\n",
       "                            providerHash               startLoc  \\\n",
       "0       98b297950041a42470269d56260243a1   37.72665,-122.393829   \n",
       "1       0353ab4cbed5beae847a7ff6e220b5cf       37.7267,-122.394   \n",
       "2       98b297950041a42470269d56260243a1  37.724185,-122.394971   \n",
       "3       c3e878e27f52e2a57ace4d9a76fd9acf  37.724993,-122.396125   \n",
       "4       0353ab4cbed5beae847a7ff6e220b5cf         37.7283,-122.4   \n",
       "...                                  ...                    ...   \n",
       "195563  c3e878e27f52e2a57ace4d9a76fd9acf   37.795684,-122.42677   \n",
       "195564  c3e878e27f52e2a57ace4d9a76fd9acf  37.792101,-122.425135   \n",
       "195565  c3e878e27f52e2a57ace4d9a76fd9acf  37.793237,-122.426252   \n",
       "195566  f4f6dce2f3a0f9dada0c2b5b66452017   37.79589,-122.423533   \n",
       "195567                               NaN                    NaN   \n",
       "\n",
       "                  startDateTime                 endLoc  endpointType  \\\n",
       "0       2023-06-01 03:33:07.000  37.922606,-122.061308           1.0   \n",
       "1       2023-06-01 04:36:39.000        37.024,-121.564           3.0   \n",
       "2       2023-06-01 14:13:51.000  37.434785,-122.179181           3.0   \n",
       "3       2023-06-01 14:49:20.596  37.730983,-122.391972           2.0   \n",
       "4       2023-06-01 15:55:54.000        37.651,-122.481           1.0   \n",
       "...                         ...                    ...           ...   \n",
       "195563  2023-06-02 18:43:46.663  37.429976,-122.120482           3.0   \n",
       "195564  2023-06-02 20:03:50.080  37.864861,-122.497879           3.0   \n",
       "195565  2023-06-02 20:13:48.531  37.791059,-122.432599           0.0   \n",
       "195566  2023-06-02 21:36:11.000  37.786061,-122.422822           0.0   \n",
       "195567                      NaN                    NaN           NaN   \n",
       "\n",
       "        tripDistanceMeters  tripMeanSpeedKPH  \\\n",
       "0                  47122.0              64.0   \n",
       "1                 172889.0              87.0   \n",
       "2                  49995.0              83.0   \n",
       "3                    796.0               8.0   \n",
       "4                  16492.0              56.0   \n",
       "...                    ...               ...   \n",
       "195563             55068.0              52.0   \n",
       "195564             11751.0              32.0   \n",
       "195565               608.0              12.0   \n",
       "195566              1268.0              11.0   \n",
       "195567                 NaN               NaN   \n",
       "\n",
       "                                  tripId  ... Median Household Income  \\\n",
       "0       88ba08c9be12cd16aa4c49fe583280f5  ...                 67279.0   \n",
       "1       155d3b4b494c3fb4aaff7586a40c37a2  ...                 67279.0   \n",
       "2       671ac5addde1e682ae8d8eebbeae075e  ...                 67279.0   \n",
       "3       c9bbf4166a99e5e561ab1b36422cdf9e  ...                 67279.0   \n",
       "4       593314aba44bcb1544b5d9eec78c8af4  ...                 67279.0   \n",
       "...                                  ...  ...                     ...   \n",
       "195563  f401e4b215ac3ecf9d0ec1332e303660  ...                211765.0   \n",
       "195564  2433dc1e609ec19fb972730724f36771  ...                211765.0   \n",
       "195565  d3924045db4ec57627e446ce1b3ac926  ...                211765.0   \n",
       "195566  3b287fe23c68f9f67d9268a328bc22da  ...                211765.0   \n",
       "195567                               NaN  ...                     NaN   \n",
       "\n",
       "       total_pop pct_female  pct_male  pct_children  pct_20-39  pct_39-64  \\\n",
       "0         3930.0   0.502036  0.497964      0.114758   0.025700   0.166667   \n",
       "1         3930.0   0.502036  0.497964      0.114758   0.025700   0.166667   \n",
       "2         3930.0   0.502036  0.497964      0.114758   0.025700   0.166667   \n",
       "3         3930.0   0.502036  0.497964      0.114758   0.025700   0.166667   \n",
       "4         3930.0   0.502036  0.497964      0.114758   0.025700   0.166667   \n",
       "...          ...        ...       ...           ...        ...        ...   \n",
       "195563    4088.0   0.521037  0.478963      0.077789   0.022994   0.297945   \n",
       "195564    4088.0   0.521037  0.478963      0.077789   0.022994   0.297945   \n",
       "195565    4088.0   0.521037  0.478963      0.077789   0.022994   0.297945   \n",
       "195566    4088.0   0.521037  0.478963      0.077789   0.022994   0.297945   \n",
       "195567       NaN        NaN       NaN           NaN        NaN        NaN   \n",
       "\n",
       "         pct_65+  pct_nonwhite  pct_latine  \n",
       "0       0.093130      0.889313    0.215522  \n",
       "1       0.093130      0.889313    0.215522  \n",
       "2       0.093130      0.889313    0.215522  \n",
       "3       0.093130      0.889313    0.215522  \n",
       "4       0.093130      0.889313    0.215522  \n",
       "...          ...           ...         ...  \n",
       "195563  0.045254      0.328033    0.062378  \n",
       "195564  0.045254      0.328033    0.062378  \n",
       "195565  0.045254      0.328033    0.062378  \n",
       "195566  0.045254      0.328033    0.062378  \n",
       "195567       NaN           NaN         NaN  \n",
       "\n",
       "[195568 rows x 38 columns]"
      ]
     },
     "execution_count": 21,
     "metadata": {},
     "output_type": "execute_result"
    }
   ],
   "source": [
    "\n",
    "merged_data = geometry.merge(data, left_on='TRACTCE20', right_on='tract', how='left')\n",
    "merged_data"
   ]
  },
  {
   "cell_type": "code",
   "execution_count": 25,
   "metadata": {},
   "outputs": [
    {
     "data": {
      "text/plain": [
       "<Axes: >"
      ]
     },
     "execution_count": 25,
     "metadata": {},
     "output_type": "execute_result"
    },
    {
     "data": {
      "image/png": "[encoded data removed]",
      "text/plain": [
       "<Figure size 640x480 with 2 Axes>"
      ]
     },
     "metadata": {},
     "output_type": "display_data"
    }
   ],
   "source": [
    "merged_data.plot(column=\"pct_nonwhite\", legend=True)"
   ]
  },
  {
   "cell_type": "code",
   "execution_count": 20,
   "metadata": {},
   "outputs": [
    {
     "ename": "KeyError",
     "evalue": "'hour'",
     "output_type": "error",
     "traceback": [
      "\u001b[0;31m---------------------------------------------------------------------------\u001b[0m",
      "\u001b[0;31mKeyError\u001b[0m                                  Traceback (most recent call last)",
      "File \u001b[0;32m~/Library/CloudStorage/OneDrive-UW/GeoAdVisor/.venv/lib/python3.10/site-packages/pandas/core/indexes/base.py:3790\u001b[0m, in \u001b[0;36mIndex.get_loc\u001b[0;34m(self, key)\u001b[0m\n\u001b[1;32m   3789\u001b[0m \u001b[39mtry\u001b[39;00m:\n\u001b[0;32m-> 3790\u001b[0m     \u001b[39mreturn\u001b[39;00m \u001b[39mself\u001b[39;49m\u001b[39m.\u001b[39;49m_engine\u001b[39m.\u001b[39;49mget_loc(casted_key)\n\u001b[1;32m   3791\u001b[0m \u001b[39mexcept\u001b[39;00m \u001b[39mKeyError\u001b[39;00m \u001b[39mas\u001b[39;00m err:\n",
      "File \u001b[0;32mindex.pyx:152\u001b[0m, in \u001b[0;36mpandas._libs.index.IndexEngine.get_loc\u001b[0;34m()\u001b[0m\n",
      "File \u001b[0;32mindex.pyx:181\u001b[0m, in \u001b[0;36mpandas._libs.index.IndexEngine.get_loc\u001b[0;34m()\u001b[0m\n",
      "File \u001b[0;32mpandas/_libs/hashtable_class_helper.pxi:7080\u001b[0m, in \u001b[0;36mpandas._libs.hashtable.PyObjectHashTable.get_item\u001b[0;34m()\u001b[0m\n",
      "File \u001b[0;32mpandas/_libs/hashtable_class_helper.pxi:7088\u001b[0m, in \u001b[0;36mpandas._libs.hashtable.PyObjectHashTable.get_item\u001b[0;34m()\u001b[0m\n",
      "\u001b[0;31mKeyError\u001b[0m: 'hour'",
      "\nThe above exception was the direct cause of the following exception:\n",
      "\u001b[0;31mKeyError\u001b[0m                                  Traceback (most recent call last)",
      "\u001b[1;32m/Users/ekinokos2/Library/CloudStorage/OneDrive-UW/GeoAdVisor/toy.ipynb Cell 31\u001b[0m line \u001b[0;36m1\n\u001b[1;32m      <a href='vscode-notebook-cell:/Users/ekinokos2/Library/CloudStorage/OneDrive-UW/GeoAdVisor/toy.ipynb#Y152sZmlsZQ%3D%3D?line=2'>3</a>\u001b[0m \u001b[39m# Create an Altair chart\u001b[39;00m\n\u001b[1;32m      <a href='vscode-notebook-cell:/Users/ekinokos2/Library/CloudStorage/OneDrive-UW/GeoAdVisor/toy.ipynb#Y152sZmlsZQ%3D%3D?line=3'>4</a>\u001b[0m chart \u001b[39m=\u001b[39m alt\u001b[39m.\u001b[39mChart(merged_data)\u001b[39m.\u001b[39mmark_geoshape()\u001b[39m.\u001b[39mencode(\n\u001b[1;32m      <a href='vscode-notebook-cell:/Users/ekinokos2/Library/CloudStorage/OneDrive-UW/GeoAdVisor/toy.ipynb#Y152sZmlsZQ%3D%3D?line=4'>5</a>\u001b[0m     color\u001b[39m=\u001b[39m\u001b[39m'\u001b[39m\u001b[39mpct_female:Q\u001b[39m\u001b[39m'\u001b[39m,\n\u001b[1;32m      <a href='vscode-notebook-cell:/Users/ekinokos2/Library/CloudStorage/OneDrive-UW/GeoAdVisor/toy.ipynb#Y152sZmlsZQ%3D%3D?line=5'>6</a>\u001b[0m     tooltip\u001b[39m=\u001b[39m[\u001b[39m'\u001b[39m\u001b[39mTRACTCE20:N\u001b[39m\u001b[39m'\u001b[39m, \u001b[39m'\u001b[39m\u001b[39mpct_female:Q\u001b[39m\u001b[39m'\u001b[39m]\n\u001b[0;32m   (...)\u001b[0m\n\u001b[1;32m      <a href='vscode-notebook-cell:/Users/ekinokos2/Library/CloudStorage/OneDrive-UW/GeoAdVisor/toy.ipynb#Y152sZmlsZQ%3D%3D?line=8'>9</a>\u001b[0m     height\u001b[39m=\u001b[39m\u001b[39m500\u001b[39m\n\u001b[1;32m     <a href='vscode-notebook-cell:/Users/ekinokos2/Library/CloudStorage/OneDrive-UW/GeoAdVisor/toy.ipynb#Y152sZmlsZQ%3D%3D?line=9'>10</a>\u001b[0m )\n\u001b[0;32m---> <a href='vscode-notebook-cell:/Users/ekinokos2/Library/CloudStorage/OneDrive-UW/GeoAdVisor/toy.ipynb#Y152sZmlsZQ%3D%3D?line=10'>11</a>\u001b[0m time_slider \u001b[39m=\u001b[39m alt\u001b[39m.\u001b[39mbinding_range(\u001b[39mmin\u001b[39m\u001b[39m=\u001b[39mmerged_data[\u001b[39m'\u001b[39;49m\u001b[39mhour\u001b[39;49m\u001b[39m'\u001b[39;49m]\u001b[39m.\u001b[39mmin(), \u001b[39mmax\u001b[39m\u001b[39m=\u001b[39mmerged_data[\u001b[39m'\u001b[39m\u001b[39mhour\u001b[39m\u001b[39m'\u001b[39m]\u001b[39m.\u001b[39mmax(), step\u001b[39m=\u001b[39m\u001b[39m1\u001b[39m)\n\u001b[1;32m     <a href='vscode-notebook-cell:/Users/ekinokos2/Library/CloudStorage/OneDrive-UW/GeoAdVisor/toy.ipynb#Y152sZmlsZQ%3D%3D?line=11'>12</a>\u001b[0m slider_selection \u001b[39m=\u001b[39m alt\u001b[39m.\u001b[39mselection_single(bind\u001b[39m=\u001b[39mtime_slider, fields\u001b[39m=\u001b[39m[\u001b[39m'\u001b[39m\u001b[39mhour\u001b[39m\u001b[39m'\u001b[39m], name\u001b[39m=\u001b[39m\u001b[39m'\u001b[39m\u001b[39mHour of day\u001b[39m\u001b[39m'\u001b[39m)\n\u001b[1;32m     <a href='vscode-notebook-cell:/Users/ekinokos2/Library/CloudStorage/OneDrive-UW/GeoAdVisor/toy.ipynb#Y152sZmlsZQ%3D%3D?line=12'>13</a>\u001b[0m chart \u001b[39m=\u001b[39m chart\u001b[39m.\u001b[39madd_selection(\n\u001b[1;32m     <a href='vscode-notebook-cell:/Users/ekinokos2/Library/CloudStorage/OneDrive-UW/GeoAdVisor/toy.ipynb#Y152sZmlsZQ%3D%3D?line=13'>14</a>\u001b[0m     slider_selection\n\u001b[1;32m     <a href='vscode-notebook-cell:/Users/ekinokos2/Library/CloudStorage/OneDrive-UW/GeoAdVisor/toy.ipynb#Y152sZmlsZQ%3D%3D?line=14'>15</a>\u001b[0m )\u001b[39m.\u001b[39mtransform_filter(\n\u001b[1;32m     <a href='vscode-notebook-cell:/Users/ekinokos2/Library/CloudStorage/OneDrive-UW/GeoAdVisor/toy.ipynb#Y152sZmlsZQ%3D%3D?line=15'>16</a>\u001b[0m     slider_selection\n\u001b[1;32m     <a href='vscode-notebook-cell:/Users/ekinokos2/Library/CloudStorage/OneDrive-UW/GeoAdVisor/toy.ipynb#Y152sZmlsZQ%3D%3D?line=16'>17</a>\u001b[0m )\n",
      "File \u001b[0;32m~/Library/CloudStorage/OneDrive-UW/GeoAdVisor/.venv/lib/python3.10/site-packages/geopandas/geodataframe.py:1474\u001b[0m, in \u001b[0;36mGeoDataFrame.__getitem__\u001b[0;34m(self, key)\u001b[0m\n\u001b[1;32m   1468\u001b[0m \u001b[39mdef\u001b[39;00m \u001b[39m__getitem__\u001b[39m(\u001b[39mself\u001b[39m, key):\n\u001b[1;32m   1469\u001b[0m \u001b[39m    \u001b[39m\u001b[39m\"\"\"\u001b[39;00m\n\u001b[1;32m   1470\u001b[0m \u001b[39m    If the result is a column containing only 'geometry', return a\u001b[39;00m\n\u001b[1;32m   1471\u001b[0m \u001b[39m    GeoSeries. If it's a DataFrame with any columns of GeometryDtype,\u001b[39;00m\n\u001b[1;32m   1472\u001b[0m \u001b[39m    return a GeoDataFrame.\u001b[39;00m\n\u001b[1;32m   1473\u001b[0m \u001b[39m    \"\"\"\u001b[39;00m\n\u001b[0;32m-> 1474\u001b[0m     result \u001b[39m=\u001b[39m \u001b[39msuper\u001b[39;49m()\u001b[39m.\u001b[39;49m\u001b[39m__getitem__\u001b[39;49m(key)\n\u001b[1;32m   1475\u001b[0m     \u001b[39m# Custom logic to avoid waiting for pandas GH51895\u001b[39;00m\n\u001b[1;32m   1476\u001b[0m     \u001b[39m# result is not geometry dtype for multi-indexes\u001b[39;00m\n\u001b[1;32m   1477\u001b[0m     \u001b[39mif\u001b[39;00m (\n\u001b[1;32m   1478\u001b[0m         pd\u001b[39m.\u001b[39mapi\u001b[39m.\u001b[39mtypes\u001b[39m.\u001b[39mis_scalar(key)\n\u001b[1;32m   1479\u001b[0m         \u001b[39mand\u001b[39;00m key \u001b[39m==\u001b[39m \u001b[39m\"\u001b[39m\u001b[39m\"\u001b[39m\n\u001b[0;32m   (...)\u001b[0m\n\u001b[1;32m   1482\u001b[0m         \u001b[39mand\u001b[39;00m \u001b[39mnot\u001b[39;00m is_geometry_type(result)\n\u001b[1;32m   1483\u001b[0m     ):\n",
      "File \u001b[0;32m~/Library/CloudStorage/OneDrive-UW/GeoAdVisor/.venv/lib/python3.10/site-packages/pandas/core/frame.py:3893\u001b[0m, in \u001b[0;36mDataFrame.__getitem__\u001b[0;34m(self, key)\u001b[0m\n\u001b[1;32m   3891\u001b[0m \u001b[39mif\u001b[39;00m \u001b[39mself\u001b[39m\u001b[39m.\u001b[39mcolumns\u001b[39m.\u001b[39mnlevels \u001b[39m>\u001b[39m \u001b[39m1\u001b[39m:\n\u001b[1;32m   3892\u001b[0m     \u001b[39mreturn\u001b[39;00m \u001b[39mself\u001b[39m\u001b[39m.\u001b[39m_getitem_multilevel(key)\n\u001b[0;32m-> 3893\u001b[0m indexer \u001b[39m=\u001b[39m \u001b[39mself\u001b[39;49m\u001b[39m.\u001b[39;49mcolumns\u001b[39m.\u001b[39;49mget_loc(key)\n\u001b[1;32m   3894\u001b[0m \u001b[39mif\u001b[39;00m is_integer(indexer):\n\u001b[1;32m   3895\u001b[0m     indexer \u001b[39m=\u001b[39m [indexer]\n",
      "File \u001b[0;32m~/Library/CloudStorage/OneDrive-UW/GeoAdVisor/.venv/lib/python3.10/site-packages/pandas/core/indexes/base.py:3797\u001b[0m, in \u001b[0;36mIndex.get_loc\u001b[0;34m(self, key)\u001b[0m\n\u001b[1;32m   3792\u001b[0m     \u001b[39mif\u001b[39;00m \u001b[39misinstance\u001b[39m(casted_key, \u001b[39mslice\u001b[39m) \u001b[39mor\u001b[39;00m (\n\u001b[1;32m   3793\u001b[0m         \u001b[39misinstance\u001b[39m(casted_key, abc\u001b[39m.\u001b[39mIterable)\n\u001b[1;32m   3794\u001b[0m         \u001b[39mand\u001b[39;00m \u001b[39many\u001b[39m(\u001b[39misinstance\u001b[39m(x, \u001b[39mslice\u001b[39m) \u001b[39mfor\u001b[39;00m x \u001b[39min\u001b[39;00m casted_key)\n\u001b[1;32m   3795\u001b[0m     ):\n\u001b[1;32m   3796\u001b[0m         \u001b[39mraise\u001b[39;00m InvalidIndexError(key)\n\u001b[0;32m-> 3797\u001b[0m     \u001b[39mraise\u001b[39;00m \u001b[39mKeyError\u001b[39;00m(key) \u001b[39mfrom\u001b[39;00m \u001b[39merr\u001b[39;00m\n\u001b[1;32m   3798\u001b[0m \u001b[39mexcept\u001b[39;00m \u001b[39mTypeError\u001b[39;00m:\n\u001b[1;32m   3799\u001b[0m     \u001b[39m# If we have a listlike key, _check_indexing_error will raise\u001b[39;00m\n\u001b[1;32m   3800\u001b[0m     \u001b[39m#  InvalidIndexError. Otherwise we fall through and re-raise\u001b[39;00m\n\u001b[1;32m   3801\u001b[0m     \u001b[39m#  the TypeError.\u001b[39;00m\n\u001b[1;32m   3802\u001b[0m     \u001b[39mself\u001b[39m\u001b[39m.\u001b[39m_check_indexing_error(key)\n",
      "\u001b[0;31mKeyError\u001b[0m: 'hour'"
     ]
    }
   ],
   "source": [
    "\n",
    "# Create an Altair chart\n",
    "chart = alt.Chart(merged_data).mark_geoshape().encode(\n",
    "    color='pct_female:Q',\n",
    "    tooltip=['TRACTCE20:N', 'pct_female:Q']\n",
    ").properties(\n",
    "    width=500,\n",
    "    height=500\n",
    ")\n",
    "time_slider = alt.binding_range(min=merged_data['hour'].min(), max=merged_data['hour'].max(), step=1)\n",
    "slider_selection = alt.selection_single(bind=time_slider, fields=['hour'], name='Hour of day')\n",
    "chart = chart.add_selection(\n",
    "    slider_selection\n",
    ").transform_filter(\n",
    "    slider_selection\n",
    ")"
   ]
  }
 ],
 "metadata": {
  "kernelspec": {
   "display_name": ".venv",
   "language": "python",
   "name": "python3"
  },
  "language_info": {
   "codemirror_mode": {
    "name": "ipython",
    "version": 3
   },
   "file_extension": ".py",
   "mimetype": "text/x-python",
   "name": "python",
   "nbconvert_exporter": "python",
   "pygments_lexer": "ipython3",
   "version": "3.10.8"
  }
 },
 "nbformat": 4,
 "nbformat_minor": 2
}
